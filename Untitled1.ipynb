{
 "cells": [
  {
   "cell_type": "code",
   "execution_count": null,
   "id": "e047ca3e-b7e8-4553-a6cf-157366e39459",
   "metadata": {
    "tags": []
   },
   "outputs": [],
   "source": [
    "# code to make a dist plot\n"
   ]
  },
  {
   "cell_type": "code",
   "execution_count": null,
   "id": "f9311c9d-6430-4803-afba-4bbdacddab6d",
   "metadata": {},
   "outputs": [],
   "source": []
  },
  {
   "cell_type": "code",
   "execution_count": null,
   "id": "08ffdd34-b12a-40b8-a142-f25275233b2d",
   "metadata": {},
   "outputs": [],
   "source": []
  },
  {
   "cell_type": "code",
   "execution_count": null,
   "id": "7651bc88-6f57-4afe-bf8c-6bd1acbe20ab",
   "metadata": {},
   "outputs": [],
   "source": []
  }
 ],
 "metadata": {
  "kernelspec": {
   "display_name": "Python 3 (ipykernel)",
   "language": "python",
   "name": "python3"
  },
  "language_info": {
   "codemirror_mode": {
    "name": "ipython",
    "version": 3
   },
   "file_extension": ".py",
   "mimetype": "text/x-python",
   "name": "python",
   "nbconvert_exporter": "python",
   "pygments_lexer": "ipython3",
   "version": "3.10.8"
  }
 },
 "nbformat": 4,
 "nbformat_minor": 5
}
